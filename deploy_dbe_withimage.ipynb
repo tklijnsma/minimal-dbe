{
 "cells": [
  {
   "cell_type": "code",
   "execution_count": 1,
   "metadata": {},
   "outputs": [],
   "source": [
    "import os, sys, pprint\n",
    "from azureml.core import Workspace, Image\n",
    "from azureml.core.compute import ComputeTarget\n",
    "from azureml.contrib.core.compute import IotHubCompute\n",
    "from azureml.contrib.core.webservice import IotWebservice, IotBaseModuleSettings\n",
    "from azureml.accel import AccelContainerImage"
   ]
  },
  {
   "cell_type": "code",
   "execution_count": 4,
   "metadata": {},
   "outputs": [
    {
     "name": "stderr",
     "output_type": "stream",
     "text": [
      "/uscms_data/d3/klijnsma/miniconda3/envs/azure0/lib/python3.6/site-packages/ipykernel_launcher.py:3: DeprecationWarning: Image class has been deprecated and will be removed in a future release. Please migrate to using Environments. https://docs.microsoft.com/en-us/azure/machine-learning/how-to-use-environments\n",
      "  This is separate from the ipykernel package so we can avoid doing imports until\n"
     ]
    }
   ],
   "source": [
    "ws = Workspace.from_config()\n",
    "iothub_compute = IotHubCompute(ws, 'fermi-edge')\n",
    "image = Image(ws, 'im-klijnsma-tquarkrn50-v200') "
   ]
  },
  {
   "cell_type": "code",
   "execution_count": 5,
   "metadata": {},
   "outputs": [
    {
     "name": "stdout",
     "output_type": "stream",
     "text": [
      "IotHubCompute(workspace=Workspace.create(name='Fermilab', subscription_id='80defacd-509e-410c-9812-6e52ed6a0016', resource_group='CMS_FPGA_Resources'), name=fermi-edge, id=/subscriptions/80defacd-509e-410c-9812-6e52ed6a0016/resourceGroups/CMS_FPGA_Resources/providers/Microsoft.MachineLearningServices/workspaces/Fermilab/computes/fermi-edge, type=IotHub, provisioning_state=Succeeded, location=eastus2, tags=None)\n",
      "AccelContainerImage(workspace=Workspace.create(name='Fermilab', subscription_id='80defacd-509e-410c-9812-6e52ed6a0016', resource_group='CMS_FPGA_Resources'), name=im-klijnsma-tquarkrn50-v200, id=im-klijnsma-tquarkrn50-v200:1, tags={}, properties={}, version=1)\n"
     ]
    }
   ],
   "source": [
    "print(iothub_compute)\n",
    "print(image)"
   ]
  },
  {
   "cell_type": "code",
   "execution_count": 10,
   "metadata": {},
   "outputs": [
    {
     "name": "stdout",
     "output_type": "stream",
     "text": [
      "IotHub 'fermi-edge' has provisioning state 'Succeeded'.\n"
     ]
    }
   ],
   "source": [
    "compute_targets = ComputeTarget.list(ws)\n",
    "for t in compute_targets: \n",
    "    if t.type == \"IotHub\":\n",
    "        print(\"IotHub '{}' has provisioning state '{}'.\".format(t.name, t.provisioning_state))"
   ]
  },
  {
   "cell_type": "code",
   "execution_count": 7,
   "metadata": {},
   "outputs": [
    {
     "data": {
      "text/plain": [
       "<azureml.contrib.core.webservice.iot.IotBaseModuleSettings at 0x7f4369cd0f60>"
      ]
     },
     "execution_count": 7,
     "metadata": {},
     "output_type": "execute_result"
    }
   ],
   "source": [
    "module_name = \"module-toprn50-v200-0\"\n",
    "\n",
    "container_config = (\n",
    "    '{ '\n",
    "    #'  \"ExposedPorts\": {'\n",
    "    #'    \"50051/tcp\": {}'\n",
    "    #'  },'\n",
    "    '  \"HostConfig\": { '\n",
    "    '    \"Binds\": [ '\n",
    "    '      \"/etc/hosts:/etc/hosts\" '\n",
    "    '    ], '\n",
    "    '    \"Privileged\": true, '\n",
    "    '    \"Devices\": [ '\n",
    "    '      { '\n",
    "    '        \"PathOnHost\": \"/dev/catapult0\", '\n",
    "    '        \"PathInContainer\": \"/dev/catapult0\" '\n",
    "    '      }, '\n",
    "    '      { '\n",
    "    '        \"PathOnHost\": \"/dev/catapult1\", '\n",
    "    '        \"PathInContainer\": \"/dev/catapult1\" '\n",
    "    '      } '\n",
    "    '    ], '\n",
    "    '    \"PortBindings\": { '\n",
    "    '      \"50051/tcp\": [ '\n",
    "    '        { '\n",
    "    '          \"HostPort\": \"50051\" '\n",
    "    '        } '\n",
    "    '      ] '\n",
    "    '    } '\n",
    "    '  } '\n",
    "    '}'\n",
    "    )\n",
    "\n",
    "routes = {\n",
    "    \"route\": \"FROM /messages/* INTO \"\n",
    "}\n",
    "\n",
    "# Here, we define the Azure ML module with the container_config options above\n",
    "aml_module = IotBaseModuleSettings(\n",
    "    name = module_name,\n",
    "    create_option = container_config\n",
    "    )\n",
    "aml_module"
   ]
  },
  {
   "cell_type": "code",
   "execution_count": 9,
   "metadata": {},
   "outputs": [
    {
     "name": "stderr",
     "output_type": "stream",
     "text": [
      "/uscms_data/d3/klijnsma/miniconda3/envs/azure0/lib/python3.6/site-packages/ipykernel_launcher.py:14: DeprecationWarning: deploy_from_image has been deprecated and will be removed in a future release. Please migrate to using Environments. https://docs.microsoft.com/en-us/azure/machine-learning/how-to-use-environments\n",
      "  \n",
      "Received bad response from Model Management Service:\n",
      "Response Code: 400\n",
      "Headers: {'Date': 'Fri, 24 Apr 2020 14:51:41 GMT', 'Content-Type': 'application/json', 'Transfer-Encoding': 'chunked', 'Connection': 'keep-alive', 'Request-Context': 'appId=cid-v1:2d2e8e63-272e-4b3c-8598-4ee570a0e70d', 'x-ms-client-request-id': 'a9125cb8e0bf4757b4521e44a1b7c0e7', 'x-ms-client-session-id': '8b544146-67c6-401a-a175-058eb716a1eb', 'api-supported-versions': '1.0, 2018-03-01-preview, 2018-11-19', 'Strict-Transport-Security': 'max-age=15724800; includeSubDomains; preload'}\n",
      "Content: b'{\"code\":\"BadRequest\",\"statusCode\":400,\"message\":\"The request is invalid\",\"details\":[{\"code\":\"IotDeploymentFailed\",\"message\":\"HttpRequest error, may be caused by broken connectionString, error detail: Name or service not known\"}]}'\n",
      "\n"
     ]
    },
    {
     "ename": "WebserviceException",
     "evalue": "WebserviceException:\n\tMessage: Received bad response from Model Management Service:\nResponse Code: 400\nHeaders: {'Date': 'Fri, 24 Apr 2020 14:51:41 GMT', 'Content-Type': 'application/json', 'Transfer-Encoding': 'chunked', 'Connection': 'keep-alive', 'Request-Context': 'appId=cid-v1:2d2e8e63-272e-4b3c-8598-4ee570a0e70d', 'x-ms-client-request-id': 'a9125cb8e0bf4757b4521e44a1b7c0e7', 'x-ms-client-session-id': '8b544146-67c6-401a-a175-058eb716a1eb', 'api-supported-versions': '1.0, 2018-03-01-preview, 2018-11-19', 'Strict-Transport-Security': 'max-age=15724800; includeSubDomains; preload'}\nContent: b'{\"code\":\"BadRequest\",\"statusCode\":400,\"message\":\"The request is invalid\",\"details\":[{\"code\":\"IotDeploymentFailed\",\"message\":\"HttpRequest error, may be caused by broken connectionString, error detail: Name or service not known\"}]}'\n\tInnerException None\n\tErrorResponse \n{\n    \"error\": {\n        \"message\": \"Received bad response from Model Management Service:\\nResponse Code: 400\\nHeaders: {'Date': 'Fri, 24 Apr 2020 14:51:41 GMT', 'Content-Type': 'application/json', 'Transfer-Encoding': 'chunked', 'Connection': 'keep-alive', 'Request-Context': 'appId=cid-v1:2d2e8e63-272e-4b3c-8598-4ee570a0e70d', 'x-ms-client-request-id': 'a9125cb8e0bf4757b4521e44a1b7c0e7', 'x-ms-client-session-id': '8b544146-67c6-401a-a175-058eb716a1eb', 'api-supported-versions': '1.0, 2018-03-01-preview, 2018-11-19', 'Strict-Transport-Security': 'max-age=15724800; includeSubDomains; preload'}\\nContent: b'{\\\"code\\\":\\\"BadRequest\\\",\\\"statusCode\\\":400,\\\"message\\\":\\\"The request is invalid\\\",\\\"details\\\":[{\\\"code\\\":\\\"IotDeploymentFailed\\\",\\\"message\\\":\\\"HttpRequest error, may be caused by broken connectionString, error detail: Name or service not known\\\"}]}'\"\n    }\n}",
     "output_type": "error",
     "traceback": [
      "\u001b[0;31m---------------------------------------------------------------------------\u001b[0m",
      "\u001b[0;31mWebserviceException\u001b[0m                       Traceback (most recent call last)",
      "\u001b[0;32m<ipython-input-9-127129381936>\u001b[0m in \u001b[0;36m<module>\u001b[0;34m\u001b[0m\n\u001b[1;32m     12\u001b[0m     \u001b[0mimage\u001b[0m\u001b[0;34m,\u001b[0m\u001b[0;34m\u001b[0m\u001b[0;34m\u001b[0m\u001b[0m\n\u001b[1;32m     13\u001b[0m     \u001b[0mdeploy_config\u001b[0m\u001b[0;34m,\u001b[0m\u001b[0;34m\u001b[0m\u001b[0;34m\u001b[0m\u001b[0m\n\u001b[0;32m---> 14\u001b[0;31m     \u001b[0miothub_compute\u001b[0m\u001b[0;34m\u001b[0m\u001b[0;34m\u001b[0m\u001b[0m\n\u001b[0m\u001b[1;32m     15\u001b[0m     )\n\u001b[1;32m     16\u001b[0m \u001b[0miot_service\u001b[0m\u001b[0;34m.\u001b[0m\u001b[0mwait_for_deployment\u001b[0m\u001b[0;34m(\u001b[0m\u001b[0;34m)\u001b[0m\u001b[0;34m\u001b[0m\u001b[0;34m\u001b[0m\u001b[0m\n",
      "\u001b[0;32m/uscms_data/d3/klijnsma/miniconda3/envs/azure0/lib/python3.6/site-packages/azureml/core/webservice/webservice.py\u001b[0m in \u001b[0;36mdeploy_from_image\u001b[0;34m(workspace, name, image, deployment_config, deployment_target, overwrite)\u001b[0m\n\u001b[1;32m    513\u001b[0m \u001b[0;34m\u001b[0m\u001b[0m\n\u001b[1;32m    514\u001b[0m         return deployment_config._webservice_type._deploy(workspace, name, image, deployment_config, deployment_target,\n\u001b[0;32m--> 515\u001b[0;31m                                                           overwrite)\n\u001b[0m\u001b[1;32m    516\u001b[0m \u001b[0;34m\u001b[0m\u001b[0m\n\u001b[1;32m    517\u001b[0m     \u001b[0;34m@\u001b[0m\u001b[0mstaticmethod\u001b[0m\u001b[0;34m\u001b[0m\u001b[0;34m\u001b[0m\u001b[0m\n",
      "\u001b[0;32m/uscms_data/d3/klijnsma/miniconda3/envs/azure0/lib/python3.6/site-packages/azureml/contrib/core/webservice/iot.py\u001b[0m in \u001b[0;36m_deploy\u001b[0;34m(workspace, name, image, deployment_config, deployment_target, overwrite)\u001b[0m\n\u001b[1;32m    103\u001b[0m         \u001b[0mdeployment_config\u001b[0m\u001b[0;34m.\u001b[0m\u001b[0mvalidate_image\u001b[0m\u001b[0;34m(\u001b[0m\u001b[0mimage\u001b[0m\u001b[0;34m)\u001b[0m\u001b[0;34m\u001b[0m\u001b[0;34m\u001b[0m\u001b[0m\n\u001b[1;32m    104\u001b[0m         \u001b[0mcreate_payload\u001b[0m \u001b[0;34m=\u001b[0m \u001b[0mIotWebservice\u001b[0m\u001b[0;34m.\u001b[0m\u001b[0m_build_create_payload\u001b[0m\u001b[0;34m(\u001b[0m\u001b[0mname\u001b[0m\u001b[0;34m,\u001b[0m \u001b[0mimage\u001b[0m\u001b[0;34m,\u001b[0m \u001b[0mdeployment_config\u001b[0m\u001b[0;34m,\u001b[0m \u001b[0mdeployment_target\u001b[0m\u001b[0;34m)\u001b[0m\u001b[0;34m\u001b[0m\u001b[0;34m\u001b[0m\u001b[0m\n\u001b[0;32m--> 105\u001b[0;31m         \u001b[0;32mreturn\u001b[0m \u001b[0mWebservice\u001b[0m\u001b[0;34m.\u001b[0m\u001b[0m_deploy_webservice\u001b[0m\u001b[0;34m(\u001b[0m\u001b[0mworkspace\u001b[0m\u001b[0;34m,\u001b[0m \u001b[0mname\u001b[0m\u001b[0;34m,\u001b[0m \u001b[0mcreate_payload\u001b[0m\u001b[0;34m,\u001b[0m \u001b[0mIotWebservice\u001b[0m\u001b[0;34m)\u001b[0m\u001b[0;34m\u001b[0m\u001b[0;34m\u001b[0m\u001b[0m\n\u001b[0m\u001b[1;32m    106\u001b[0m \u001b[0;34m\u001b[0m\u001b[0m\n\u001b[1;32m    107\u001b[0m     \u001b[0;34m@\u001b[0m\u001b[0mstaticmethod\u001b[0m\u001b[0;34m\u001b[0m\u001b[0;34m\u001b[0m\u001b[0m\n",
      "\u001b[0;32m/uscms_data/d3/klijnsma/miniconda3/envs/azure0/lib/python3.6/site-packages/azureml/core/webservice/webservice.py\u001b[0m in \u001b[0;36m_deploy_webservice\u001b[0;34m(workspace, name, webservice_payload, webservice_class)\u001b[0m\n\u001b[1;32m    631\u001b[0m         \u001b[0moperation_url\u001b[0m \u001b[0;34m=\u001b[0m \u001b[0mbase_url\u001b[0m \u001b[0;34m+\u001b[0m \u001b[0;34m'/operations/{}'\u001b[0m\u001b[0;34m.\u001b[0m\u001b[0mformat\u001b[0m\u001b[0;34m(\u001b[0m\u001b[0mcreate_operation_status_id\u001b[0m\u001b[0;34m)\u001b[0m\u001b[0;34m\u001b[0m\u001b[0;34m\u001b[0m\u001b[0m\n\u001b[1;32m    632\u001b[0m \u001b[0;34m\u001b[0m\u001b[0m\n\u001b[0;32m--> 633\u001b[0;31m         \u001b[0mservice\u001b[0m \u001b[0;34m=\u001b[0m \u001b[0mwebservice_class\u001b[0m\u001b[0;34m(\u001b[0m\u001b[0mworkspace\u001b[0m\u001b[0;34m,\u001b[0m \u001b[0mname\u001b[0m\u001b[0;34m=\u001b[0m\u001b[0mname\u001b[0m\u001b[0;34m)\u001b[0m\u001b[0;34m\u001b[0m\u001b[0;34m\u001b[0m\u001b[0m\n\u001b[0m\u001b[1;32m    634\u001b[0m         \u001b[0mservice\u001b[0m\u001b[0;34m.\u001b[0m\u001b[0m_operation_endpoint\u001b[0m \u001b[0;34m=\u001b[0m \u001b[0moperation_url\u001b[0m\u001b[0;34m\u001b[0m\u001b[0;34m\u001b[0m\u001b[0m\n\u001b[1;32m    635\u001b[0m         \u001b[0;32mreturn\u001b[0m \u001b[0mservice\u001b[0m\u001b[0;34m\u001b[0m\u001b[0;34m\u001b[0m\u001b[0m\n",
      "\u001b[0;32m/uscms_data/d3/klijnsma/miniconda3/envs/azure0/lib/python3.6/site-packages/azureml/core/webservice/webservice.py\u001b[0m in \u001b[0;36m__new__\u001b[0;34m(cls, workspace, name)\u001b[0m\n\u001b[1;32m    194\u001b[0m         \"\"\"\n\u001b[1;32m    195\u001b[0m         \u001b[0;32mif\u001b[0m \u001b[0mworkspace\u001b[0m \u001b[0;32mand\u001b[0m \u001b[0mname\u001b[0m\u001b[0;34m:\u001b[0m\u001b[0;34m\u001b[0m\u001b[0;34m\u001b[0m\u001b[0m\n\u001b[0;32m--> 196\u001b[0;31m             \u001b[0mservice_payload\u001b[0m \u001b[0;34m=\u001b[0m \u001b[0mcls\u001b[0m\u001b[0;34m.\u001b[0m\u001b[0m_get\u001b[0m\u001b[0;34m(\u001b[0m\u001b[0mworkspace\u001b[0m\u001b[0;34m,\u001b[0m \u001b[0mname\u001b[0m\u001b[0;34m)\u001b[0m\u001b[0;34m\u001b[0m\u001b[0;34m\u001b[0m\u001b[0m\n\u001b[0m\u001b[1;32m    197\u001b[0m             \u001b[0;32mif\u001b[0m \u001b[0mservice_payload\u001b[0m\u001b[0;34m:\u001b[0m\u001b[0;34m\u001b[0m\u001b[0;34m\u001b[0m\u001b[0m\n\u001b[1;32m    198\u001b[0m                 \u001b[0mservice_type\u001b[0m \u001b[0;34m=\u001b[0m \u001b[0mservice_payload\u001b[0m\u001b[0;34m[\u001b[0m\u001b[0;34m'computeType'\u001b[0m\u001b[0;34m]\u001b[0m\u001b[0;34m\u001b[0m\u001b[0;34m\u001b[0m\u001b[0m\n",
      "\u001b[0;32m/uscms_data/d3/klijnsma/miniconda3/envs/azure0/lib/python3.6/site-packages/azureml/core/webservice/webservice.py\u001b[0m in \u001b[0;36m_get\u001b[0;34m(workspace, name)\u001b[0m\n\u001b[1;32m    357\u001b[0m                                       \u001b[0;34m'Headers: {}\\n'\u001b[0m\u001b[0;34m\u001b[0m\u001b[0;34m\u001b[0m\u001b[0m\n\u001b[1;32m    358\u001b[0m                                       \u001b[0;34m'Content: {}'\u001b[0m\u001b[0;34m.\u001b[0m\u001b[0mformat\u001b[0m\u001b[0;34m(\u001b[0m\u001b[0mresp\u001b[0m\u001b[0;34m.\u001b[0m\u001b[0mstatus_code\u001b[0m\u001b[0;34m,\u001b[0m \u001b[0mresp\u001b[0m\u001b[0;34m.\u001b[0m\u001b[0mheaders\u001b[0m\u001b[0;34m,\u001b[0m \u001b[0mresp\u001b[0m\u001b[0;34m.\u001b[0m\u001b[0mcontent\u001b[0m\u001b[0;34m)\u001b[0m\u001b[0;34m,\u001b[0m\u001b[0;34m\u001b[0m\u001b[0;34m\u001b[0m\u001b[0m\n\u001b[0;32m--> 359\u001b[0;31m                                       logger=module_logger)\n\u001b[0m\u001b[1;32m    360\u001b[0m \u001b[0;34m\u001b[0m\u001b[0m\n\u001b[1;32m    361\u001b[0m     \u001b[0;34m@\u001b[0m\u001b[0mstaticmethod\u001b[0m\u001b[0;34m\u001b[0m\u001b[0;34m\u001b[0m\u001b[0m\n",
      "\u001b[0;31mWebserviceException\u001b[0m: WebserviceException:\n\tMessage: Received bad response from Model Management Service:\nResponse Code: 400\nHeaders: {'Date': 'Fri, 24 Apr 2020 14:51:41 GMT', 'Content-Type': 'application/json', 'Transfer-Encoding': 'chunked', 'Connection': 'keep-alive', 'Request-Context': 'appId=cid-v1:2d2e8e63-272e-4b3c-8598-4ee570a0e70d', 'x-ms-client-request-id': 'a9125cb8e0bf4757b4521e44a1b7c0e7', 'x-ms-client-session-id': '8b544146-67c6-401a-a175-058eb716a1eb', 'api-supported-versions': '1.0, 2018-03-01-preview, 2018-11-19', 'Strict-Transport-Security': 'max-age=15724800; includeSubDomains; preload'}\nContent: b'{\"code\":\"BadRequest\",\"statusCode\":400,\"message\":\"The request is invalid\",\"details\":[{\"code\":\"IotDeploymentFailed\",\"message\":\"HttpRequest error, may be caused by broken connectionString, error detail: Name or service not known\"}]}'\n\tInnerException None\n\tErrorResponse \n{\n    \"error\": {\n        \"message\": \"Received bad response from Model Management Service:\\nResponse Code: 400\\nHeaders: {'Date': 'Fri, 24 Apr 2020 14:51:41 GMT', 'Content-Type': 'application/json', 'Transfer-Encoding': 'chunked', 'Connection': 'keep-alive', 'Request-Context': 'appId=cid-v1:2d2e8e63-272e-4b3c-8598-4ee570a0e70d', 'x-ms-client-request-id': 'a9125cb8e0bf4757b4521e44a1b7c0e7', 'x-ms-client-session-id': '8b544146-67c6-401a-a175-058eb716a1eb', 'api-supported-versions': '1.0, 2018-03-01-preview, 2018-11-19', 'Strict-Transport-Security': 'max-age=15724800; includeSubDomains; preload'}\\nContent: b'{\\\"code\\\":\\\"BadRequest\\\",\\\"statusCode\\\":400,\\\"message\\\":\\\"The request is invalid\\\",\\\"details\\\":[{\\\"code\\\":\\\"IotDeploymentFailed\\\",\\\"message\\\":\\\"HttpRequest error, may be caused by broken connectionString, error detail: Name or service not known\\\"}]}'\"\n    }\n}"
     ]
    }
   ],
   "source": [
    "# Then we define the deployment manifest for our IoT Edge device with the aml_module and routes\n",
    "deploy_config = IotWebservice.deploy_configuration(\n",
    "    device_id = 'fermi-edge',\n",
    "    routes = {'route': 'FROM /messages/* INTO '},\n",
    "    aml_module = aml_module,\n",
    "    )\n",
    "\n",
    "iot_service = IotWebservice.deploy_from_image(\n",
    "    ws,\n",
    "    module_name,\n",
    "    image,\n",
    "    deploy_config,\n",
    "    iothub_compute\n",
    "    )\n",
    "iot_service.wait_for_deployment()"
   ]
  },
  {
   "cell_type": "code",
   "execution_count": null,
   "metadata": {},
   "outputs": [],
   "source": []
  }
 ],
 "metadata": {
  "kernelspec": {
   "display_name": "Python 3",
   "language": "python",
   "name": "python3"
  },
  "language_info": {
   "codemirror_mode": {
    "name": "ipython",
    "version": 3
   },
   "file_extension": ".py",
   "mimetype": "text/x-python",
   "name": "python",
   "nbconvert_exporter": "python",
   "pygments_lexer": "ipython3",
   "version": "3.6.10"
  }
 },
 "nbformat": 4,
 "nbformat_minor": 4
}
